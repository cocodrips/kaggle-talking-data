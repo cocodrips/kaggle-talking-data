{
 "cells": [
  {
   "cell_type": "code",
   "execution_count": 18,
   "metadata": {},
   "outputs": [],
   "source": [
    "import collections\n",
    "import pathlib\n",
    "\n",
    "# データ処理周り\n",
    "import numpy as np\n",
    "import pandas as pd\n",
    "from IPython.core.display import display\n",
    "import gc\n",
    "\n",
    "# 可視化ライブラリ\n",
    "import matplotlib.pyplot as plt\n",
    "from matplotlib import cm # colormap\n",
    "import seaborn as sns\n",
    "%matplotlib inline\n",
    "\n",
    "# pandasのwarningが邪魔なので\n",
    "import warnings\n",
    "warnings.filterwarnings('ignore')\n",
    "\n",
    "# options\n",
    "# pd.set_option('display.max_columns', 50)\n",
    "plt.style.use('ggplot')\n",
    "\n",
    "\n",
    "####\n",
    "import sys\n",
    "sys.path.append('../script')\n",
    "data_path = pathlib.Path('../data')\n",
    "my_data_path = pathlib.Path('../my-data')"
   ]
  },
  {
   "cell_type": "code",
   "execution_count": 3,
   "metadata": {},
   "outputs": [],
   "source": [
    "%reload_ext autoreload\n",
    "import talking_data as td\n",
    "import preprocess \n",
    "\n",
    "\n",
    "from sklearn.model_selection import train_test_split\n",
    "import xgboost as xgb\n",
    "from xgboost import plot_importance"
   ]
  },
  {
   "cell_type": "code",
   "execution_count": 11,
   "metadata": {},
   "outputs": [
    {
     "name": "stdout",
     "output_type": "stream",
     "text": [
      ">>>0\n",
      ">>>1\n",
      ">>>2\n",
      ">>>3\n",
      ">>>4\n",
      ">>>5\n",
      ">>>6\n",
      ">>>7\n",
      ">>>8\n",
      ">>>9\n",
      ">>>10\n",
      ">>>11\n"
     ]
    }
   ],
   "source": [
    "# BigQueryで前処理済みのデータを1/10ロード\n",
    "train = pd.DataFrame()\n",
    "\n",
    "i = 0\n",
    "n = 10\n",
    "for filepath in (my_data_path / 'train_expanded').glob('*.tar.gz'):\n",
    "    print(f\">>> {i}\")\n",
    "    if i > n:\n",
    "        break        \n",
    "    df = pd.read_csv(filepath)\n",
    "    train = pd.concat([train, df])\n",
    "    i += 1"
   ]
  },
  {
   "cell_type": "code",
   "execution_count": 28,
   "metadata": {},
   "outputs": [],
   "source": [
    "test = pd.DataFrame()\n",
    "for filepath in (my_data_path / 'test_expanded').glob('*.tar.gz'):\n",
    "    df = pd.read_csv(filepath)\n",
    "    test = pd.concat([test, df])"
   ]
  },
  {
   "cell_type": "code",
   "execution_count": 14,
   "metadata": {},
   "outputs": [
    {
     "name": "stdout",
     "output_type": "stream",
     "text": [
      "shape: (39501056, 10)\n"
     ]
    },
    {
     "data": {
      "text/html": [
       "<div>\n",
       "<style scoped>\n",
       "    .dataframe tbody tr th:only-of-type {\n",
       "        vertical-align: middle;\n",
       "    }\n",
       "\n",
       "    .dataframe tbody tr th {\n",
       "        vertical-align: top;\n",
       "    }\n",
       "\n",
       "    .dataframe thead th {\n",
       "        text-align: right;\n",
       "    }\n",
       "</style>\n",
       "<table border=\"1\" class=\"dataframe\">\n",
       "  <thead>\n",
       "    <tr style=\"text-align: right;\">\n",
       "      <th></th>\n",
       "      <th>app</th>\n",
       "      <th>device</th>\n",
       "      <th>channel</th>\n",
       "      <th>os</th>\n",
       "      <th>next_click</th>\n",
       "      <th>prev_click</th>\n",
       "      <th>hour</th>\n",
       "      <th>day</th>\n",
       "      <th>attributed_time</th>\n",
       "      <th>is_attributed</th>\n",
       "    </tr>\n",
       "  </thead>\n",
       "  <tbody>\n",
       "    <tr>\n",
       "      <th>0</th>\n",
       "      <td>14</td>\n",
       "      <td>1</td>\n",
       "      <td>371</td>\n",
       "      <td>18</td>\n",
       "      <td>36.0</td>\n",
       "      <td>NaN</td>\n",
       "      <td>0</td>\n",
       "      <td>8</td>\n",
       "      <td>NaN</td>\n",
       "      <td>0</td>\n",
       "    </tr>\n",
       "    <tr>\n",
       "      <th>1</th>\n",
       "      <td>14</td>\n",
       "      <td>1</td>\n",
       "      <td>360</td>\n",
       "      <td>10</td>\n",
       "      <td>12416.0</td>\n",
       "      <td>2485.0</td>\n",
       "      <td>0</td>\n",
       "      <td>8</td>\n",
       "      <td>NaN</td>\n",
       "      <td>0</td>\n",
       "    </tr>\n",
       "    <tr>\n",
       "      <th>2</th>\n",
       "      <td>11</td>\n",
       "      <td>1</td>\n",
       "      <td>319</td>\n",
       "      <td>19</td>\n",
       "      <td>2556.0</td>\n",
       "      <td>1733.0</td>\n",
       "      <td>0</td>\n",
       "      <td>9</td>\n",
       "      <td>NaN</td>\n",
       "      <td>0</td>\n",
       "    </tr>\n",
       "    <tr>\n",
       "      <th>3</th>\n",
       "      <td>3</td>\n",
       "      <td>1</td>\n",
       "      <td>371</td>\n",
       "      <td>13</td>\n",
       "      <td>0.0</td>\n",
       "      <td>235.0</td>\n",
       "      <td>0</td>\n",
       "      <td>8</td>\n",
       "      <td>NaN</td>\n",
       "      <td>0</td>\n",
       "    </tr>\n",
       "    <tr>\n",
       "      <th>4</th>\n",
       "      <td>10</td>\n",
       "      <td>1</td>\n",
       "      <td>317</td>\n",
       "      <td>19</td>\n",
       "      <td>NaN</td>\n",
       "      <td>NaN</td>\n",
       "      <td>0</td>\n",
       "      <td>8</td>\n",
       "      <td>NaN</td>\n",
       "      <td>0</td>\n",
       "    </tr>\n",
       "  </tbody>\n",
       "</table>\n",
       "</div>"
      ],
      "text/plain": [
       "   app  device  channel  os  next_click  prev_click  hour  day  \\\n",
       "0   14       1      371  18        36.0         NaN     0    8   \n",
       "1   14       1      360  10     12416.0      2485.0     0    8   \n",
       "2   11       1      319  19      2556.0      1733.0     0    9   \n",
       "3    3       1      371  13         0.0       235.0     0    8   \n",
       "4   10       1      317  19         NaN         NaN     0    8   \n",
       "\n",
       "  attributed_time  is_attributed  \n",
       "0             NaN              0  \n",
       "1             NaN              0  \n",
       "2             NaN              0  \n",
       "3             NaN              0  \n",
       "4             NaN              0  "
      ]
     },
     "execution_count": 14,
     "metadata": {},
     "output_type": "execute_result"
    }
   ],
   "source": [
    "# train\n",
    "print(\"shape:\", train.shape)\n",
    "train.head()"
   ]
  },
  {
   "cell_type": "code",
   "execution_count": 16,
   "metadata": {},
   "outputs": [
    {
     "name": "stdout",
     "output_type": "stream",
     "text": [
      "shape: (39489349, 9)\n"
     ]
    },
    {
     "data": {
      "text/html": [
       "<div>\n",
       "<style scoped>\n",
       "    .dataframe tbody tr th:only-of-type {\n",
       "        vertical-align: middle;\n",
       "    }\n",
       "\n",
       "    .dataframe tbody tr th {\n",
       "        vertical-align: top;\n",
       "    }\n",
       "\n",
       "    .dataframe thead th {\n",
       "        text-align: right;\n",
       "    }\n",
       "</style>\n",
       "<table border=\"1\" class=\"dataframe\">\n",
       "  <thead>\n",
       "    <tr style=\"text-align: right;\">\n",
       "      <th></th>\n",
       "      <th>click_id</th>\n",
       "      <th>app</th>\n",
       "      <th>device</th>\n",
       "      <th>channel</th>\n",
       "      <th>os</th>\n",
       "      <th>next_click</th>\n",
       "      <th>prev_click</th>\n",
       "      <th>hour</th>\n",
       "      <th>day</th>\n",
       "    </tr>\n",
       "  </thead>\n",
       "  <tbody>\n",
       "    <tr>\n",
       "      <th>0</th>\n",
       "      <td>8143779</td>\n",
       "      <td>65</td>\n",
       "      <td>3</td>\n",
       "      <td>469</td>\n",
       "      <td>33</td>\n",
       "      <td>539.0</td>\n",
       "      <td>705.0</td>\n",
       "      <td>9</td>\n",
       "      <td>10</td>\n",
       "    </tr>\n",
       "    <tr>\n",
       "      <th>1</th>\n",
       "      <td>7829342</td>\n",
       "      <td>65</td>\n",
       "      <td>3</td>\n",
       "      <td>469</td>\n",
       "      <td>33</td>\n",
       "      <td>15.0</td>\n",
       "      <td>189.0</td>\n",
       "      <td>9</td>\n",
       "      <td>10</td>\n",
       "    </tr>\n",
       "    <tr>\n",
       "      <th>2</th>\n",
       "      <td>7956282</td>\n",
       "      <td>65</td>\n",
       "      <td>3</td>\n",
       "      <td>469</td>\n",
       "      <td>33</td>\n",
       "      <td>NaN</td>\n",
       "      <td>NaN</td>\n",
       "      <td>9</td>\n",
       "      <td>10</td>\n",
       "    </tr>\n",
       "    <tr>\n",
       "      <th>3</th>\n",
       "      <td>6481421</td>\n",
       "      <td>65</td>\n",
       "      <td>3</td>\n",
       "      <td>469</td>\n",
       "      <td>33</td>\n",
       "      <td>3252.0</td>\n",
       "      <td>14235.0</td>\n",
       "      <td>9</td>\n",
       "      <td>10</td>\n",
       "    </tr>\n",
       "    <tr>\n",
       "      <th>4</th>\n",
       "      <td>7007579</td>\n",
       "      <td>65</td>\n",
       "      <td>3</td>\n",
       "      <td>469</td>\n",
       "      <td>33</td>\n",
       "      <td>148.0</td>\n",
       "      <td>33.0</td>\n",
       "      <td>9</td>\n",
       "      <td>10</td>\n",
       "    </tr>\n",
       "  </tbody>\n",
       "</table>\n",
       "</div>"
      ],
      "text/plain": [
       "   click_id  app  device  channel  os  next_click  prev_click  hour  day\n",
       "0   8143779   65       3      469  33       539.0       705.0     9   10\n",
       "1   7829342   65       3      469  33        15.0       189.0     9   10\n",
       "2   7956282   65       3      469  33         NaN         NaN     9   10\n",
       "3   6481421   65       3      469  33      3252.0     14235.0     9   10\n",
       "4   7007579   65       3      469  33       148.0        33.0     9   10"
      ]
     },
     "execution_count": 16,
     "metadata": {},
     "output_type": "execute_result"
    }
   ],
   "source": [
    "# test\n",
    "print(\"shape:\", test.shape)\n",
    "test.head()"
   ]
  },
  {
   "cell_type": "code",
   "execution_count": 17,
   "metadata": {},
   "outputs": [],
   "source": [
    "y = train['is_attributed']\n",
    "X = train[:]\n",
    "X.drop(['attributed_time', 'is_attributed'], axis=1, inplace=True)\n",
    "X_train, X_test, y_train, y_test = train_test_split(X, y, test_size=0.1, random_state=42)\n",
    "dtrain = xgb.DMatrix(X_train, y_train)\n",
    "dvalid = xgb.DMatrix(X_test, y_test)\n",
    "del X_train, X_test, y_train, y_test"
   ]
  },
  {
   "cell_type": "code",
   "execution_count": 19,
   "metadata": {},
   "outputs": [],
   "source": [
    "# https://www.kaggle.com/joaopmpeinado/talkingdata-xgboost-lb-0-966\n",
    "# Set the params(this params from Pranav kernel) for xgboost model\n",
    "params = {\n",
    "    'eta': 0.3,\n",
    "    'tree_method': \"hist\",\n",
    "    'grow_policy': \"lossguide\",\n",
    "    'max_leaves': 1400,  \n",
    "    'max_depth': 0, \n",
    "    'subsample': 0.9, \n",
    "    'colsample_bytree': 0.7, \n",
    "    'colsample_bylevel':0.7,\n",
    "    'min_child_weight':0,\n",
    "    'alpha':4,\n",
    "    'objective': 'binary:logistic', \n",
    "    'scale_pos_weight':9,\n",
    "    'eval_metric': 'auc', \n",
    "    'nthread':8,\n",
    "    'random_state': 99, \n",
    "    'silent': True\n",
    "}"
   ]
  },
  {
   "cell_type": "code",
   "execution_count": 20,
   "metadata": {},
   "outputs": [
    {
     "name": "stdout",
     "output_type": "stream",
     "text": [
      "[0]\ttrain-auc:0.904653\tvalid-auc:0.907687\n",
      "Multiple eval metrics have been passed: 'valid-auc' will be used for early stopping.\n",
      "\n",
      "Will train until valid-auc hasn't improved in 25 rounds.\n",
      "[5]\ttrain-auc:0.949894\tvalid-auc:0.95073\n",
      "[10]\ttrain-auc:0.960975\tvalid-auc:0.959536\n",
      "[15]\ttrain-auc:0.966678\tvalid-auc:0.959638\n",
      "[20]\ttrain-auc:0.976087\tvalid-auc:0.965236\n",
      "[25]\ttrain-auc:0.983879\tvalid-auc:0.96532\n",
      "[30]\ttrain-auc:0.989231\tvalid-auc:0.964684\n",
      "[35]\ttrain-auc:0.992495\tvalid-auc:0.964825\n",
      "[40]\ttrain-auc:0.994642\tvalid-auc:0.964577\n",
      "[45]\ttrain-auc:0.995586\tvalid-auc:0.964538\n",
      "Stopping. Best iteration:\n",
      "[24]\ttrain-auc:0.982793\tvalid-auc:0.965473\n",
      "\n"
     ]
    }
   ],
   "source": [
    "watchlist = [(dtrain, 'train'), (dvalid, 'valid')]\n",
    "model = xgb.train(params, dtrain, 200, watchlist, maximize=True, early_stopping_rounds = 25, verbose_eval=5)\n",
    "del dvalid"
   ]
  },
  {
   "cell_type": "code",
   "execution_count": 21,
   "metadata": {},
   "outputs": [
    {
     "data": {
      "text/plain": [
       "<matplotlib.axes._subplots.AxesSubplot at 0x7fdf83754358>"
      ]
     },
     "execution_count": 21,
     "metadata": {},
     "output_type": "execute_result"
    },
    {
     "data": {
      "image/png": "[encoded data removed]",
      "text/plain": [
       "<matplotlib.figure.Figure at 0x7fdf8302d8d0>"
      ]
     },
     "metadata": {},
     "output_type": "display_data"
    }
   ],
   "source": [
    "plot_importance(model)"
   ]
  },
  {
   "cell_type": "code",
   "execution_count": 29,
   "metadata": {},
   "outputs": [],
   "source": [
    "sub = pd.DataFrame()\n",
    "sub['click_id'] = test['click_id'].astype('int')"
   ]
  },
  {
   "cell_type": "code",
   "execution_count": 30,
   "metadata": {},
   "outputs": [
    {
     "data": {
      "text/plain": [
       "176"
      ]
     },
     "execution_count": 30,
     "metadata": {},
     "output_type": "execute_result"
    }
   ],
   "source": [
    "test.drop(['click_id'], axis=1, inplace=True)\n",
    "dtest = xgb.DMatrix(test)\n",
    "# del dtrain, dvalid\n",
    "gc.collect()"
   ]
  },
  {
   "cell_type": "code",
   "execution_count": 26,
   "metadata": {},
   "outputs": [
    {
     "data": {
      "text/plain": [
       "37"
      ]
     },
     "execution_count": 26,
     "metadata": {},
     "output_type": "execute_result"
    }
   ],
   "source": [
    "# del train, test\n",
    "# gc.collect()"
   ]
  },
  {
   "cell_type": "code",
   "execution_count": 31,
   "metadata": {},
   "outputs": [],
   "source": [
    "sub['is_attributed'] = model.predict(dtest, ntree_limit=model.best_ntree_limit)"
   ]
  },
  {
   "cell_type": "code",
   "execution_count": 33,
   "metadata": {},
   "outputs": [],
   "source": [
    "sub.to_csv(my_data_path / 'submit' / '003-BasicXgBoost.csv', float_format='%.8f', index=False)"
   ]
  },
  {
   "cell_type": "code",
   "execution_count": 34,
   "metadata": {},
   "outputs": [
    {
     "data": {
      "text/html": [
       "<div>\n",
       "<style scoped>\n",
       "    .dataframe tbody tr th:only-of-type {\n",
       "        vertical-align: middle;\n",
       "    }\n",
       "\n",
       "    .dataframe tbody tr th {\n",
       "        vertical-align: top;\n",
       "    }\n",
       "\n",
       "    .dataframe thead th {\n",
       "        text-align: right;\n",
       "    }\n",
       "</style>\n",
       "<table border=\"1\" class=\"dataframe\">\n",
       "  <thead>\n",
       "    <tr style=\"text-align: right;\">\n",
       "      <th></th>\n",
       "      <th>click_id</th>\n",
       "      <th>is_attributed</th>\n",
       "    </tr>\n",
       "  </thead>\n",
       "  <tbody>\n",
       "    <tr>\n",
       "      <th>0</th>\n",
       "      <td>8143779</td>\n",
       "      <td>0.005901</td>\n",
       "    </tr>\n",
       "    <tr>\n",
       "      <th>1</th>\n",
       "      <td>7829342</td>\n",
       "      <td>0.009534</td>\n",
       "    </tr>\n",
       "    <tr>\n",
       "      <th>2</th>\n",
       "      <td>7956282</td>\n",
       "      <td>0.008523</td>\n",
       "    </tr>\n",
       "    <tr>\n",
       "      <th>3</th>\n",
       "      <td>6481421</td>\n",
       "      <td>0.007468</td>\n",
       "    </tr>\n",
       "    <tr>\n",
       "      <th>4</th>\n",
       "      <td>7007579</td>\n",
       "      <td>0.010388</td>\n",
       "    </tr>\n",
       "  </tbody>\n",
       "</table>\n",
       "</div>"
      ],
      "text/plain": [
       "   click_id  is_attributed\n",
       "0   8143779       0.005901\n",
       "1   7829342       0.009534\n",
       "2   7956282       0.008523\n",
       "3   6481421       0.007468\n",
       "4   7007579       0.010388"
      ]
     },
     "execution_count": 34,
     "metadata": {},
     "output_type": "execute_result"
    }
   ],
   "source": [
    "sub.head()"
   ]
  },
  {
   "cell_type": "code",
   "execution_count": null,
   "metadata": {},
   "outputs": [],
   "source": []
  }
 ],
 "metadata": {
  "kernelspec": {
   "display_name": "Python 3",
   "language": "python",
   "name": "python3"
  },
  "language_info": {
   "codemirror_mode": {
    "name": "ipython",
    "version": 3
   },
   "file_extension": ".py",
   "mimetype": "text/x-python",
   "name": "python",
   "nbconvert_exporter": "python",
   "pygments_lexer": "ipython3",
   "version": "3.6.3"
  },
  "toc": {
   "base_numbering": 1,
   "nav_menu": {},
   "number_sections": true,
   "sideBar": true,
   "skip_h1_title": false,
   "title_cell": "Table of Contents",
   "title_sidebar": "Contents",
   "toc_cell": false,
   "toc_position": {},
   "toc_section_display": true,
   "toc_window_display": false
  }
 },
 "nbformat": 4,
 "nbformat_minor": 2
}
